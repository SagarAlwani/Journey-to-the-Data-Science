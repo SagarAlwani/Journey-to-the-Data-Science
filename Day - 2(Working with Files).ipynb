{
 "cells": [
  {
   "cell_type": "code",
   "execution_count": 1,
   "metadata": {},
   "outputs": [],
   "source": [
    "Example1 = 'C:/Users/DELL/Desktop/SagarGit/Sagartxt.txt' \n",
    "file1 = open(Example1,'r')"
   ]
  },
  {
   "cell_type": "code",
   "execution_count": 2,
   "metadata": {},
   "outputs": [
    {
     "data": {
      "text/plain": [
       "'C:/Users/DELL/Desktop/SagarGit/Sagartxt.txt'"
      ]
     },
     "execution_count": 2,
     "metadata": {},
     "output_type": "execute_result"
    }
   ],
   "source": [
    "file1.name"
   ]
  },
  {
   "cell_type": "code",
   "execution_count": 3,
   "metadata": {},
   "outputs": [
    {
     "data": {
      "text/plain": [
       "'r'"
      ]
     },
     "execution_count": 3,
     "metadata": {},
     "output_type": "execute_result"
    }
   ],
   "source": [
    "file1.mode"
   ]
  },
  {
   "cell_type": "code",
   "execution_count": 4,
   "metadata": {},
   "outputs": [],
   "source": [
    "FileContent = file1.read()"
   ]
  },
  {
   "cell_type": "code",
   "execution_count": 5,
   "metadata": {},
   "outputs": [
    {
     "data": {
      "text/plain": [
       "'1.) This is a Test File\\n2.) With Multiple lines of data\\n3.) Third Line\\n4.) Fourth Line\\n5.) Fifth Line\\n6.) Sixth Line\\n7.) Seventh Line\\n8.) Eighth Line\\n9.) Still Counting\\n10.) Tenth Line'"
      ]
     },
     "execution_count": 5,
     "metadata": {},
     "output_type": "execute_result"
    }
   ],
   "source": [
    "FileContent"
   ]
  },
  {
   "cell_type": "code",
   "execution_count": 6,
   "metadata": {},
   "outputs": [
    {
     "name": "stdout",
     "output_type": "stream",
     "text": [
      "1.) This is a Test File\n",
      "2.) With Multiple lines of data\n",
      "3.) Third Line\n",
      "4.) Fourth Line\n",
      "5.) Fifth Line\n",
      "6.) Sixth Line\n",
      "7.) Seventh Line\n",
      "8.) Eighth Line\n",
      "9.) Still Counting\n",
      "10.) Tenth Line\n"
     ]
    }
   ],
   "source": [
    "print(FileContent)"
   ]
  },
  {
   "cell_type": "code",
   "execution_count": 7,
   "metadata": {},
   "outputs": [
    {
     "data": {
      "text/plain": [
       "str"
      ]
     },
     "execution_count": 7,
     "metadata": {},
     "output_type": "execute_result"
    }
   ],
   "source": [
    "type(FileContent)"
   ]
  },
  {
   "cell_type": "code",
   "execution_count": 8,
   "metadata": {},
   "outputs": [],
   "source": [
    "file1.close()"
   ]
  },
  {
   "cell_type": "code",
   "execution_count": 10,
   "metadata": {},
   "outputs": [
    {
     "name": "stdout",
     "output_type": "stream",
     "text": [
      "A Little more interestng Content to open A file as i don't remember to close it \n"
     ]
    }
   ],
   "source": [
    "print(\"A Little more interestng Content to open A file as i don't remember to close it \")"
   ]
  },
  {
   "cell_type": "code",
   "execution_count": 12,
   "metadata": {},
   "outputs": [
    {
     "name": "stdout",
     "output_type": "stream",
     "text": [
      "And also i dont want to the whole content of file just a first few character then we follow below one\n"
     ]
    }
   ],
   "source": [
    "print(\"And also i dont want to the whole content of file just a first few character then we follow below one\")"
   ]
  },
  {
   "cell_type": "code",
   "execution_count": 17,
   "metadata": {},
   "outputs": [
    {
     "name": "stdout",
     "output_type": "stream",
     "text": [
      "1.) This is a Tes\n"
     ]
    }
   ],
   "source": [
    "with open(Example1,'r') as file1: #<- file1 is name of variable4\n",
    "    FileContent = file1.read(17)\n",
    "    \n",
    "print(FileContent)    "
   ]
  },
  {
   "cell_type": "code",
   "execution_count": 18,
   "metadata": {},
   "outputs": [
    {
     "name": "stdout",
     "output_type": "stream",
     "text": [
      "Now if i will call file1.read again(17) then next 17 characters will be called\n"
     ]
    }
   ],
   "source": [
    "print(\"Now if i will call file1.read(17) again then next 17 characters will be called\")"
   ]
  },
  {
   "cell_type": "code",
   "execution_count": 20,
   "metadata": {},
   "outputs": [
    {
     "name": "stdout",
     "output_type": "stream",
     "text": [
      "1.) This i\n",
      "s a Test F\n",
      "ile\n",
      "2.) Wi\n",
      "th Multipl\n",
      "e lines of\n",
      " data\n",
      "3.) \n",
      "Third Line\n"
     ]
    }
   ],
   "source": [
    "with open(Example1,'r') as file1:\n",
    "    print(file1.read(10))\n",
    "    print(file1.read(10))\n",
    "    print(file1.read(10))\n",
    "    print(file1.read(10))\n",
    "    print(file1.read(10))\n",
    "    print(file1.read(10))\n",
    "    print(file1.read(10))"
   ]
  },
  {
   "cell_type": "code",
   "execution_count": 21,
   "metadata": {},
   "outputs": [
    {
     "name": "stdout",
     "output_type": "stream",
     "text": [
      "So we can print then line as\n"
     ]
    }
   ],
   "source": [
    "print(\"So we can print then line as just read a line\")"
   ]
  },
  {
   "cell_type": "code",
   "execution_count": 30,
   "metadata": {},
   "outputs": [
    {
     "name": "stdout",
     "output_type": "stream",
     "text": [
      "First Line:-> 1.) This is a Test File\n",
      "\n"
     ]
    }
   ],
   "source": [
    "with open(Example1, 'r') as file1:\n",
    "    print(\"First Line:-> \" + file1.readline())"
   ]
  },
  {
   "cell_type": "code",
   "execution_count": 31,
   "metadata": {},
   "outputs": [
    {
     "name": "stdout",
     "output_type": "stream",
     "text": [
      "So i think we can also use loops\n"
     ]
    }
   ],
   "source": [
    "print(\"So i think we can also use loops\")"
   ]
  },
  {
   "cell_type": "code",
   "execution_count": 39,
   "metadata": {},
   "outputs": [
    {
     "name": "stdout",
     "output_type": "stream",
     "text": [
      "1.) This is a Test File\n",
      "2.) With Multiple lines of data\n",
      "3.) Third Line\n",
      "4.) Fourth Line\n",
      "5.) Fifth Line\n",
      "6.) Sixth Line\n",
      "7.) Seventh Line\n",
      "8.) Eighth Line\n",
      "9.) Still Counting\n",
      "10.) Tenth Line\n"
     ]
    }
   ],
   "source": [
    "with open(Example1,'r') as file1:\n",
    "    FileContent = file1.read()\n",
    "print(FileContent)    "
   ]
  },
  {
   "cell_type": "code",
   "execution_count": 34,
   "metadata": {},
   "outputs": [
    {
     "name": "stdout",
     "output_type": "stream",
     "text": [
      "0 line is:  2.) With Multiple lines of data\n",
      "\n",
      "1 line is:  4.) Fourth Line\n",
      "\n",
      "2 line is:  6.) Sixth Line\n",
      "\n",
      "3 line is:  8.) Eighth Line\n",
      "\n",
      "4 line is:  10.) Tenth Line\n"
     ]
    }
   ],
   "source": [
    "with open(Example1,'r') as file1:\n",
    "    i = 0\n",
    "    for line in file1:\n",
    "        print(str(i) + \" line is: \",file1.readline())\n",
    "        i+=1\n",
    "    "
   ]
  },
  {
   "cell_type": "code",
   "execution_count": 35,
   "metadata": {},
   "outputs": [
    {
     "name": "stdout",
     "output_type": "stream",
     "text": [
      "Using read lines as a tool to save a text file in a list\n"
     ]
    }
   ],
   "source": [
    "+print(\"Using readlines() is not a readline() as a tool to save a text file in a list\")"
   ]
  },
  {
   "cell_type": "code",
   "execution_count": 49,
   "metadata": {},
   "outputs": [],
   "source": [
    "with open(Example1,'r') as file1:\n",
    "    FileasList = file1.readlines()"
   ]
  },
  {
   "cell_type": "code",
   "execution_count": 50,
   "metadata": {},
   "outputs": [
    {
     "data": {
      "text/plain": [
       "'1.) This is a Test File\\n'"
      ]
     },
     "execution_count": 50,
     "metadata": {},
     "output_type": "execute_result"
    }
   ],
   "source": [
    "FileasList[0]"
   ]
  },
  {
   "cell_type": "code",
   "execution_count": 51,
   "metadata": {},
   "outputs": [
    {
     "name": "stdout",
     "output_type": "stream",
     "text": [
      "['1.) This is a Test File\\n', '2.) With Multiple lines of data\\n', '3.) Third Line\\n', '4.) Fourth Line\\n', '5.) Fifth Line\\n', '6.) Sixth Line\\n', '7.) Seventh Line\\n', '8.) Eighth Line\\n', '9.) Still Counting\\n', '10.) Tenth Line']\n"
     ]
    }
   ],
   "source": [
    "print(FileasList)"
   ]
  },
  {
   "cell_type": "code",
   "execution_count": 52,
   "metadata": {},
   "outputs": [
    {
     "name": "stdout",
     "output_type": "stream",
     "text": [
      "Let's make a new file and start writing inside it\n"
     ]
    }
   ],
   "source": [
    "print(\"Let's make a new file and start writing inside it\")"
   ]
  },
  {
   "cell_type": "code",
   "execution_count": 53,
   "metadata": {},
   "outputs": [],
   "source": [
    "Example_new = 'C:/Users/DELL/Desktop/SagarGit/Sagarwrites.txt'"
   ]
  },
  {
   "cell_type": "code",
   "execution_count": 68,
   "metadata": {},
   "outputs": [],
   "source": [
    "with open(Example_new,'w') as file_new:\n",
    "    file_new.write(\"This is first Line\\n\")"
   ]
  },
  {
   "cell_type": "code",
   "execution_count": 69,
   "metadata": {},
   "outputs": [
    {
     "name": "stdout",
     "output_type": "stream",
     "text": [
      "This is first Line\n",
      "\n"
     ]
    }
   ],
   "source": [
    "with open(Example_new,'r') as file_test:\n",
    "    print(file_test.readline())"
   ]
  },
  {
   "cell_type": "code",
   "execution_count": 70,
   "metadata": {},
   "outputs": [
    {
     "name": "stdout",
     "output_type": "stream",
     "text": [
      "Let's write multiple Files\n"
     ]
    }
   ],
   "source": [
    "print(\"Let's write multiple Files\")\n"
   ]
  },
  {
   "cell_type": "code",
   "execution_count": 71,
   "metadata": {},
   "outputs": [],
   "source": [
    "with open(Example_new,'w') as filewrite:\n",
    "    filewrite.write(\"This is Second Line\\n\")\n",
    "    filewrite.write(\"This is Third Line\\n\")\n",
    "    filewrite.write(\"This is fourth Line\\n\")"
   ]
  },
  {
   "cell_type": "code",
   "execution_count": 72,
   "metadata": {},
   "outputs": [
    {
     "name": "stdout",
     "output_type": "stream",
     "text": [
      "This is Second Line\n",
      "This is Third Line\n",
      "This is fourth Line\n",
      "\n"
     ]
    }
   ],
   "source": [
    "with open(Example_new,'r') as file1:\n",
    "    print(file1.read())"
   ]
  },
  {
   "cell_type": "code",
   "execution_count": 73,
   "metadata": {},
   "outputs": [
    {
     "name": "stdout",
     "output_type": "stream",
     "text": [
      "Now Let's append a file\n"
     ]
    }
   ],
   "source": [
    "print(\"Now Let's append a file\")"
   ]
  },
  {
   "cell_type": "code",
   "execution_count": 76,
   "metadata": {},
   "outputs": [],
   "source": [
    "with open(Example_new,'a') as file1:\n",
    "    file1.write('This is fifth line')"
   ]
  },
  {
   "cell_type": "code",
   "execution_count": 77,
   "metadata": {},
   "outputs": [
    {
     "name": "stdout",
     "output_type": "stream",
     "text": [
      "Let's Verify\n"
     ]
    }
   ],
   "source": [
    "print(\"Let's Verify\")"
   ]
  },
  {
   "cell_type": "code",
   "execution_count": 78,
   "metadata": {},
   "outputs": [
    {
     "name": "stdout",
     "output_type": "stream",
     "text": [
      "This is Second Line\n",
      "This is Third Line\n",
      "This is fourth Line\n",
      "This is fifth line\n"
     ]
    }
   ],
   "source": [
    "with open(Example_new, 'r') as file1:\n",
    "    print(file1.read())"
   ]
  },
  {
   "cell_type": "code",
   "execution_count": 79,
   "metadata": {},
   "outputs": [
    {
     "name": "stdout",
     "output_type": "stream",
     "text": [
      "Let's do some work with the lists\n"
     ]
    }
   ],
   "source": [
    "print(\"Let's do some work with the lists\")"
   ]
  },
  {
   "cell_type": "code",
   "execution_count": 80,
   "metadata": {},
   "outputs": [
    {
     "data": {
      "text/plain": [
       "['Sagar is kind\\n', 'Sagar is Intelligent\\n,', 'Sagar has a good humour\\n']"
      ]
     },
     "execution_count": 80,
     "metadata": {},
     "output_type": "execute_result"
    }
   ],
   "source": [
    "Lines = ['Sagar is kind\\n', \"Sagar is Intelligent\\n,\", \"Sagar has a good humour\\n\"]\n",
    "Lines"
   ]
  },
  {
   "cell_type": "code",
   "execution_count": 84,
   "metadata": {
    "scrolled": true
   },
   "outputs": [
    {
     "name": "stdout",
     "output_type": "stream",
     "text": [
      "Sagar is kind\n",
      "\n",
      "Sagar is Intelligent\n",
      ",\n",
      "Sagar has a good humour\n",
      "\n"
     ]
    }
   ],
   "source": [
    "with open(Example_new,'w') as writefile:\n",
    "    for Line in Lines:\n",
    "        print(Line)\n",
    "        writefile.write(Line)"
   ]
  },
  {
   "cell_type": "code",
   "execution_count": 85,
   "metadata": {},
   "outputs": [
    {
     "name": "stdout",
     "output_type": "stream",
     "text": [
      "Let's check if every thing got right\n"
     ]
    }
   ],
   "source": [
    "print(\"Let's check if every thing got right\")"
   ]
  },
  {
   "cell_type": "code",
   "execution_count": 87,
   "metadata": {},
   "outputs": [
    {
     "name": "stdout",
     "output_type": "stream",
     "text": [
      "Sagar is kind\n",
      "Sagar is Intelligent\n",
      ",Sagar has a good humour\n",
      "\n"
     ]
    }
   ],
   "source": [
    "with open(Example_new,'r') as file1:\n",
    "    print(file1.read())"
   ]
  },
  {
   "cell_type": "code",
   "execution_count": 88,
   "metadata": {},
   "outputs": [
    {
     "name": "stdout",
     "output_type": "stream",
     "text": [
      "Let's print data from Example_new.txt to Example_brandnew.txt\n"
     ]
    }
   ],
   "source": [
    "print(\"Let's print data from Example_new.txt to Example_brandnew.txt\")"
   ]
  },
  {
   "cell_type": "code",
   "execution_count": 89,
   "metadata": {},
   "outputs": [],
   "source": [
    "Example_brandnew = 'C:/Users/DELL/Desktop/SagarGit/Example_brandnew.txt'\n",
    "with open(Example_new,'r') as readfile:\n",
    "    with open(Example_brandnew,'w') as writefile:\n",
    "        for line in readfile:\n",
    "            writefile.write(line)"
   ]
  },
  {
   "cell_type": "code",
   "execution_count": 90,
   "metadata": {},
   "outputs": [
    {
     "name": "stdout",
     "output_type": "stream",
     "text": [
      "Sagar is kind\n",
      "Sagar is Intelligent\n",
      ",Sagar has a good humour\n",
      "\n"
     ]
    }
   ],
   "source": [
    "with open(Example_brandnew,'r') as read:\n",
    "    print(read.read())"
   ]
  },
  {
   "cell_type": "code",
   "execution_count": null,
   "metadata": {},
   "outputs": [],
   "source": [
    "print(\"As we can see all files copied we are done\")"
   ]
  }
 ],
 "metadata": {
  "kernelspec": {
   "display_name": "Python 3",
   "language": "python",
   "name": "python3"
  },
  "language_info": {
   "codemirror_mode": {
    "name": "ipython",
    "version": 3
   },
   "file_extension": ".py",
   "mimetype": "text/x-python",
   "name": "python",
   "nbconvert_exporter": "python",
   "pygments_lexer": "ipython3",
   "version": "3.7.6"
  }
 },
 "nbformat": 4,
 "nbformat_minor": 4
}
