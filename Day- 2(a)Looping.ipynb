{
 "cells": [
  {
   "cell_type": "code",
   "execution_count": 1,
   "metadata": {},
   "outputs": [
    {
     "name": "stdout",
     "output_type": "stream",
     "text": [
      "Let's work down on loops\n"
     ]
    }
   ],
   "source": [
    "print(\"Let's work down on loops\")"
   ]
  },
  {
   "cell_type": "code",
   "execution_count": 4,
   "metadata": {},
   "outputs": [
    {
     "name": "stdout",
     "output_type": "stream",
     "text": [
      "Sagar\n",
      "Adam\n",
      "Elle\n"
     ]
    }
   ],
   "source": [
    "dates = [\"Sagar\", \"Adam\", \"Elle\"]\n",
    "N = len(dates)\n",
    "for i in range(N):\n",
    "    print(dates[i])"
   ]
  },
  {
   "cell_type": "code",
   "execution_count": 6,
   "metadata": {},
   "outputs": [
    {
     "name": "stdout",
     "output_type": "stream",
     "text": [
      "Sagar\n",
      "Adam\n",
      "Elle\n"
     ]
    }
   ],
   "source": [
    "for date in dates:\n",
    "    print(date)"
   ]
  },
  {
   "cell_type": "code",
   "execution_count": 10,
   "metadata": {},
   "outputs": [
    {
     "name": "stdout",
     "output_type": "stream",
     "text": [
      "Before square 0 is Green coloured\n",
      "After square 0 is white coloured\n",
      "Before square 1 is Red coloured\n",
      "After square 1 is white coloured\n",
      "Before square 2 is Blue coloured\n",
      "After square 2 is white coloured\n",
      "Before square 3 is Yellow coloured\n",
      "After square 3 is white coloured\n"
     ]
    }
   ],
   "source": [
    "square = ['Green', 'Red', 'Blue', 'Yellow']\n",
    "for i in range(0, 4):\n",
    "    print(\"Before square \" +str(i)  + \" is \" + square[i] + \" coloured\")\n",
    "    square[i] = 'white'\n",
    "    print(\"After square \" + str(i) + \" is \" + square[i] + \" coloured\")"
   ]
  },
  {
   "cell_type": "code",
   "execution_count": 13,
   "metadata": {},
   "outputs": [
    {
     "name": "stdout",
     "output_type": "stream",
     "text": [
      "0 Sagar\n",
      "1 Neha\n",
      "2 aysha\n",
      "3 Shanaya\n",
      "4 Subhu\n"
     ]
    }
   ],
   "source": [
    "list = [\"Sagar\", \"Neha\", \"aysha\", \"Shanaya\", \"Subhu\"]\n",
    "for item, values in enumerate(list):\n",
    "    print(item, values)"
   ]
  },
  {
   "cell_type": "code",
   "execution_count": 14,
   "metadata": {},
   "outputs": [
    {
     "name": "stdout",
     "output_type": "stream",
     "text": [
      "Let's loop a while\n"
     ]
    }
   ],
   "source": [
    "print(\"Let's loop a while\")"
   ]
  },
  {
   "cell_type": "code",
   "execution_count": 17,
   "metadata": {},
   "outputs": [
    {
     "name": "stdout",
     "output_type": "stream",
     "text": [
      "0 1980\n",
      "1 1982\n",
      "2 1984\n",
      "it took 3 out of loop\n"
     ]
    }
   ],
   "source": [
    "dates = [1980, 1982, 1984, 1987, 1999]\n",
    "i = 0\n",
    "while dates[i] != 1987:\n",
    "    year = dates[i]\n",
    "    print(i,year)\n",
    "    i = i + 1\n",
    "print(\"it took \" + str(i) + \" out of loop\")    \n",
    "    "
   ]
  },
  {
   "cell_type": "code",
   "execution_count": 29,
   "metadata": {},
   "outputs": [
    {
     "name": "stdout",
     "output_type": "stream",
     "text": [
      "['Orange', 'Orange', 'Orange']\n"
     ]
    }
   ],
   "source": [
    "squares = ['Orange', 'Orange', 'Purple', 'Blue', 'Orange']\n",
    "new_square = []\n",
    "for i,square in enumerate(squares):\n",
    "    if square == \"Orange\":\n",
    "        new_square.append(squares[i])\n",
    "print(new_square)\n",
    "del squares[0]\n"
   ]
  },
  {
   "cell_type": "code",
   "execution_count": 30,
   "metadata": {},
   "outputs": [
    {
     "name": "stdout",
     "output_type": "stream",
     "text": [
      "['Orange', 'Orange']\n"
     ]
    }
   ],
   "source": [
    "del new_square[0]\n",
    "print(new_square)"
   ]
  },
  {
   "cell_type": "code",
   "execution_count": 31,
   "metadata": {},
   "outputs": [
    {
     "name": "stdout",
     "output_type": "stream",
     "text": [
      "['Cherry', 'Cherry', 'Cherry']\n"
     ]
    }
   ],
   "source": [
    "fruits = ['Cherry', 'Cherry', 'Cherry', 'Banana', 'Tomato', 'Mango']\n",
    "new_fruits = []\n",
    "i = 0\n",
    "while(fruits[i] == 'Cherry'):\n",
    "    new_fruits.append(fruits[i])\n",
    "    i = i + 1\n",
    "print(new_fruits)    "
   ]
  },
  {
   "cell_type": "code",
   "execution_count": null,
   "metadata": {},
   "outputs": [],
   "source": []
  },
  {
   "cell_type": "code",
   "execution_count": null,
   "metadata": {},
   "outputs": [],
   "source": []
  },
  {
   "cell_type": "code",
   "execution_count": null,
   "metadata": {},
   "outputs": [],
   "source": []
  },
  {
   "cell_type": "code",
   "execution_count": null,
   "metadata": {},
   "outputs": [],
   "source": []
  }
 ],
 "metadata": {
  "kernelspec": {
   "display_name": "Python 3",
   "language": "python",
   "name": "python3"
  },
  "language_info": {
   "codemirror_mode": {
    "name": "ipython",
    "version": 3
   },
   "file_extension": ".py",
   "mimetype": "text/x-python",
   "name": "python",
   "nbconvert_exporter": "python",
   "pygments_lexer": "ipython3",
   "version": "3.7.6"
  }
 },
 "nbformat": 4,
 "nbformat_minor": 4
}
